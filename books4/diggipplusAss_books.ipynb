{
 "cells": [
  {
   "cell_type": "markdown",
   "id": "f4c51be4",
   "metadata": {},
   "source": [
    "# requirements"
   ]
  },
  {
   "cell_type": "code",
   "execution_count": 180,
   "id": "2a60e473",
   "metadata": {},
   "outputs": [],
   "source": [
    "!pip install requests --upgrade --quiet"
   ]
  },
  {
   "cell_type": "code",
   "execution_count": 181,
   "id": "585810c2",
   "metadata": {},
   "outputs": [
    {
     "data": {
      "text/plain": [
       "200"
      ]
     },
     "execution_count": 181,
     "metadata": {},
     "output_type": "execute_result"
    }
   ],
   "source": [
    "import requests\n",
    "url= 'https://www.amazon.in/gp/bestsellers/books/'\n",
    "# Using variable to get the webpage\n",
    "response=requests.get(url)\n",
    "response.encoding = 'utf-8'\n",
    "# Checking the status code of the downloaded page \n",
    "response.status_code"
   ]
  },
  {
   "cell_type": "code",
   "execution_count": 182,
   "id": "3612f50e",
   "metadata": {},
   "outputs": [
    {
     "data": {
      "text/plain": [
       "335306"
      ]
     },
     "execution_count": 182,
     "metadata": {},
     "output_type": "execute_result"
    }
   ],
   "source": [
    "page_contents= response.text\n",
    "len(page_contents)"
   ]
  },
  {
   "cell_type": "code",
   "execution_count": 183,
   "id": "1c5987c1",
   "metadata": {},
   "outputs": [],
   "source": [
    "page_content=response.text"
   ]
  },
  {
   "cell_type": "markdown",
   "id": "ced571b2",
   "metadata": {},
   "source": [
    "# requirements"
   ]
  },
  {
   "cell_type": "code",
   "execution_count": 184,
   "id": "d8a4637c",
   "metadata": {},
   "outputs": [],
   "source": [
    "!pip install Beautifulsoup4 --upgrade --quiet"
   ]
  },
  {
   "cell_type": "code",
   "execution_count": 185,
   "id": "73f44d0c",
   "metadata": {},
   "outputs": [
    {
     "data": {
      "text/plain": [
       "bs4.BeautifulSoup"
      ]
     },
     "execution_count": 185,
     "metadata": {},
     "output_type": "execute_result"
    }
   ],
   "source": [
    "from bs4 import BeautifulSoup\n",
    "doc=BeautifulSoup(page_content,'html.parser')\n",
    "#Check the type of doc which will be beautifulsoup object\n",
    "type(doc)"
   ]
  },
  {
   "cell_type": "code",
   "execution_count": 186,
   "id": "1a352eef",
   "metadata": {},
   "outputs": [
    {
     "ename": "IndentationError",
     "evalue": "unexpected indent (Temp/ipykernel_22192/1511033736.py, line 2)",
     "output_type": "error",
     "traceback": [
      "\u001b[1;36m  File \u001b[1;32m\"C:\\Users\\Dell\\AppData\\Local\\Temp/ipykernel_22192/1511033736.py\"\u001b[1;36m, line \u001b[1;32m2\u001b[0m\n\u001b[1;33m    print(\"Scraping URL:\", url)\u001b[0m\n\u001b[1;37m    ^\u001b[0m\n\u001b[1;31mIndentationError\u001b[0m\u001b[1;31m:\u001b[0m unexpected indent\n"
     ]
    }
   ],
   "source": [
    "# def get_page(url):\n",
    "    print(\"Scraping URL:\", url)\n",
    "    time.sleep(2)\n",
    "    response= requests.get(url)\n",
    "    print (\"Status code:\",response.status_code)\n",
    "    page_contents= response.text\n",
    "    with open('webpage.html', 'w', encoding='utf-8') as f:\n",
    "        f.write(response.text)\n",
    "    doc = BeautifulSoup(page_contents, 'html.parser')\n",
    "    return doc"
   ]
  },
  {
   "cell_type": "markdown",
   "id": "4685063d",
   "metadata": {},
   "source": [
    "# Scrape book Title"
   ]
  },
  {
   "cell_type": "code",
   "execution_count": 187,
   "id": "ed5b8479",
   "metadata": {},
   "outputs": [],
   "source": [
    "book_title_tags= doc.find_all('div',{\"class\": \"zg-grid-general-faceout\"})"
   ]
  },
  {
   "cell_type": "code",
   "execution_count": 188,
   "id": "f6111e7a",
   "metadata": {},
   "outputs": [
    {
     "data": {
      "text/plain": [
       "50"
      ]
     },
     "execution_count": 188,
     "metadata": {},
     "output_type": "execute_result"
    }
   ],
   "source": [
    "len(book_title_tags)"
   ]
  },
  {
   "cell_type": "code",
   "execution_count": 189,
   "id": "4489014c",
   "metadata": {},
   "outputs": [
    {
     "data": {
      "text/plain": [
       "<a class=\"a-link-normal\" href=\"/BRAHMASTRA-Complete-Multicolored-Formula-BILINGUAL/dp/9387910016/ref=zg_bs_g_books_sccl_1/000-0000000-0000000?psc=1\" role=\"link\" tabindex=\"-1\"><div class=\"a-section a-spacing-mini _cDEzb_noop_3Xbw5\"><img alt=\"BRAHMASTRA Complete Maths Multicolored Formula Book Second Edition BILINGUAL by Aditya Ranjan Sir\" class=\"a-dynamic-image p13n-sc-dynamic-image p13n-product-image\" data-a-dynamic-image='{\"https://images-eu.ssl-images-amazon.com/images/I/817JpJqs4WL._AC_UL300_SR300,200_.jpg\":[300,200],\"https://images-eu.ssl-images-amazon.com/images/I/817JpJqs4WL._AC_UL600_SR600,400_.jpg\":[600,400],\"https://images-eu.ssl-images-amazon.com/images/I/817JpJqs4WL._AC_UL900_SR900,600_.jpg\":[900,600]}' height=\"200px\" src=\"https://images-eu.ssl-images-amazon.com/images/I/817JpJqs4WL._AC_UL300_SR300,200_.jpg\" style=\"max-width:300px;max-height:200px\"/></div></a>"
      ]
     },
     "execution_count": 189,
     "metadata": {},
     "output_type": "execute_result"
    }
   ],
   "source": [
    "book_title_tags[0].find('a',{'class':'a-link-normal'})"
   ]
  },
  {
   "cell_type": "code",
   "execution_count": 190,
   "id": "8884181d",
   "metadata": {},
   "outputs": [
    {
     "data": {
      "text/plain": [
       "'BRAHMASTRA Complete Maths Multicolored Formula Book Second Edition BILINGUAL by Aditya Ranjan Sir'"
      ]
     },
     "execution_count": 190,
     "metadata": {},
     "output_type": "execute_result"
    }
   ],
   "source": [
    "book_title_tags[0].find('span').text\n"
   ]
  },
  {
   "cell_type": "code",
   "execution_count": 191,
   "id": "693dc06d",
   "metadata": {},
   "outputs": [],
   "source": [
    "def get_book_title(doc):\n",
    "    book_title_tags= doc.find_all('div',{\"class\": \"zg-grid-general-faceout\"})\n",
    "    Book_Titles=[]\n",
    "    for tag in book_title_tags:\n",
    "        try:\n",
    "            title_tag = tag.find('span')\n",
    "            Book_Titles.append(title_tag.text)\n",
    "        except :\n",
    "            Book_Titles.append(\"Not Available\")\n",
    "    return Book_Titles"
   ]
  },
  {
   "cell_type": "code",
   "execution_count": 192,
   "id": "e92fdbae",
   "metadata": {},
   "outputs": [
    {
     "data": {
      "text/plain": [
       "['BRAHMASTRA Complete Maths Multicolored Formula Book Second Edition BILINGUAL by Aditya Ranjan Sir',\n",
       " 'Ikigai',\n",
       " 'The Psychology Of Money',\n",
       " 'PW Physics Med Easy Notes | Notes, Formulas, Mnemonics, Tips & Tricks for NEET/JEE & Board Exams | MR Sir Physics Handwritten Notes',\n",
       " 'Atomic Habits: the life-changing million-copy #1 bestseller',\n",
       " 'The Power of Your Subconscious Mind',\n",
       " \"Don't Believe Everything You Think (English)\",\n",
       " 'Do It Today: Overcome procrastination, improve productivity and achieve more meaningful things [Paperback] Foroux, Darius',\n",
       " 'Diary Of A Wimpy Kid: No Brainer (Book 18)',\n",
       " 'My First Library: Boxset of 10 Board Books for Kids']"
      ]
     },
     "execution_count": 192,
     "metadata": {},
     "output_type": "execute_result"
    }
   ],
   "source": [
    "get_book_title(doc)[:10] "
   ]
  },
  {
   "cell_type": "markdown",
   "id": "6f2f8e76",
   "metadata": {},
   "source": [
    "# Scrape authors name"
   ]
  },
  {
   "cell_type": "code",
   "execution_count": 193,
   "id": "85caf5c9",
   "metadata": {},
   "outputs": [],
   "source": [
    "author_name_tags= doc.find_all('div',{'class':'zg-grid-general-faceout'})"
   ]
  },
  {
   "cell_type": "code",
   "execution_count": 194,
   "id": "966ef12c",
   "metadata": {},
   "outputs": [],
   "source": [
    "len(author_name_tags)\n",
    "author_name_tags[0].find('a',{'class':'a-size-small a-link-child'})"
   ]
  },
  {
   "cell_type": "code",
   "execution_count": 195,
   "id": "2f11b5dd",
   "metadata": {},
   "outputs": [],
   "source": [
    "def get_all_authors(doc):\n",
    "    author_name_tags= doc.find_all('div',{'class':'zg-grid-general-faceout'})\n",
    "    Author_Names=[]\n",
    "    for tag in author_name_tags:\n",
    "        try:\n",
    "            Author_Names.append(tag.find('div',{'class':'a-row a-size-small'}).text)\n",
    "        except :\n",
    "            Author_Names.append(\"Not Available\")\n",
    "    return Author_Names"
   ]
  },
  {
   "cell_type": "code",
   "execution_count": 196,
   "id": "3c0a35f5",
   "metadata": {},
   "outputs": [
    {
     "data": {
      "text/plain": [
       "['Aditya Ranjan Sir',\n",
       " 'Francesc Miralles',\n",
       " 'Morgan Housel',\n",
       " 'Dr. Manish Raj (MR. Sir)',\n",
       " 'James Clear',\n",
       " 'Joseph Murphy',\n",
       " 'Joseph Nguyen',\n",
       " 'Darius Foroux',\n",
       " 'Jeff Kinney',\n",
       " 'Wonder House Books']"
      ]
     },
     "execution_count": 196,
     "metadata": {},
     "output_type": "execute_result"
    }
   ],
   "source": [
    "get_all_authors(doc)[:10]"
   ]
  },
  {
   "cell_type": "markdown",
   "id": "6726da71",
   "metadata": {},
   "source": [
    "# Scrape book Price"
   ]
  },
  {
   "cell_type": "code",
   "execution_count": 197,
   "id": "5408b695",
   "metadata": {},
   "outputs": [],
   "source": [
    "book_price_tags= doc.find_all('div',{\"class\": \"zg-grid-general-faceout\"})"
   ]
  },
  {
   "cell_type": "code",
   "execution_count": 198,
   "id": "369f36e6",
   "metadata": {},
   "outputs": [
    {
     "data": {
      "text/plain": [
       "'₹110.00'"
      ]
     },
     "execution_count": 198,
     "metadata": {},
     "output_type": "execute_result"
    }
   ],
   "source": [
    "book_price_tags[0].find('span',class_ ='p13n-sc-price').text"
   ]
  },
  {
   "cell_type": "code",
   "execution_count": 199,
   "id": "92270726",
   "metadata": {},
   "outputs": [
    {
     "data": {
      "text/plain": [
       "50"
      ]
     },
     "execution_count": 199,
     "metadata": {},
     "output_type": "execute_result"
    }
   ],
   "source": [
    "len(book_price_tags)"
   ]
  },
  {
   "cell_type": "code",
   "execution_count": 200,
   "id": "3c9f737e",
   "metadata": {},
   "outputs": [],
   "source": [
    "def get_all_price(doc):\n",
    "    book_price_tags= doc.find_all('div',{\"class\": \"zg-grid-general-faceout\"})\n",
    "    Book_Price=[]\n",
    "    for tag in book_price_tags:\n",
    "        try:\n",
    "            Book_Price.append(tag.find('span',{'class':'p13n-sc-price'}).text)\n",
    "        except :\n",
    "            Book_Price.append(\"Not Available\")\n",
    "            \n",
    "    return Book_Price"
   ]
  },
  {
   "cell_type": "code",
   "execution_count": 201,
   "id": "bf74b710",
   "metadata": {},
   "outputs": [
    {
     "data": {
      "text/plain": [
       "['₹110.00',\n",
       " '₹353.00',\n",
       " '₹231.00',\n",
       " '₹421.00',\n",
       " '₹467.00',\n",
       " '₹104.00',\n",
       " '₹175.00',\n",
       " '₹139.00',\n",
       " '₹412.00',\n",
       " '₹398.00']"
      ]
     },
     "execution_count": 201,
     "metadata": {},
     "output_type": "execute_result"
    }
   ],
   "source": [
    "get_all_price(doc)[:10]"
   ]
  },
  {
   "cell_type": "markdown",
   "id": "f270dde8",
   "metadata": {},
   "source": [
    "# Scrape book URL"
   ]
  },
  {
   "cell_type": "code",
   "execution_count": 202,
   "id": "29665bc0",
   "metadata": {},
   "outputs": [],
   "source": [
    "book_url_tag=doc.find_all('div',{\"class\": \"zg-grid-general-faceout\"})"
   ]
  },
  {
   "cell_type": "code",
   "execution_count": 203,
   "id": "374673c3",
   "metadata": {},
   "outputs": [
    {
     "data": {
      "text/plain": [
       "50"
      ]
     },
     "execution_count": 203,
     "metadata": {},
     "output_type": "execute_result"
    }
   ],
   "source": [
    "len(book_url_tag)"
   ]
  },
  {
   "cell_type": "code",
   "execution_count": 204,
   "id": "3a944697",
   "metadata": {},
   "outputs": [],
   "source": [
    "book_url_tag0=book_url_tag[0].find('a',{'class':'a-link-normal'})"
   ]
  },
  {
   "cell_type": "code",
   "execution_count": 205,
   "id": "d2e6ca50",
   "metadata": {},
   "outputs": [],
   "source": [
    "def get_all_url(doc):\n",
    "    book_url_tag=doc.find_all('div',{\"class\": \"zg-grid-general-faceout\"})\n",
    "    Book_Title_Urls=[]\n",
    "    base_url=\"https://www.amazon.in\"\n",
    "    for tag in book_url_tag:\n",
    "        try:\n",
    "            Book_Title_Urls.append(base_url + tag.find('a',{'class':'a-link-normal'})['href'])\n",
    "        except :\n",
    "            Book_Title_Urls.append(\"Not Available\")\n",
    "    return Book_Title_Urls"
   ]
  },
  {
   "cell_type": "code",
   "execution_count": 206,
   "id": "9990c46b",
   "metadata": {},
   "outputs": [
    {
     "data": {
      "text/plain": [
       "['https://www.amazon.in/BRAHMASTRA-Complete-Multicolored-Formula-BILINGUAL/dp/9387910016/ref=zg_bs_g_books_sccl_1/000-0000000-0000000?psc=1',\n",
       " 'https://www.amazon.in/Ikigai-H%C3%A9ctor-Garc%C3%ADa/dp/178633089X/ref=zg_bs_g_books_sccl_2/000-0000000-0000000?psc=1',\n",
       " 'https://www.amazon.in/Psychology-Money-Morgan-Housel/dp/9390166268/ref=zg_bs_g_books_sccl_3/000-0000000-0000000?psc=1',\n",
       " 'https://www.amazon.in/Physics-Formulas-Mnemonics-Tricks-Handwritten/dp/8119352947/ref=zg_bs_g_books_sccl_4/000-0000000-0000000?psc=1',\n",
       " 'https://www.amazon.in/Atomic-Habits-James-Clear/dp/1847941834/ref=zg_bs_g_books_sccl_5/000-0000000-0000000?psc=1',\n",
       " 'https://www.amazon.in/Power-Your-Subconscious-Mind/dp/8194790832/ref=zg_bs_g_books_sccl_6/000-0000000-0000000?psc=1',\n",
       " 'https://www.amazon.in/Dont-Believe-Everything-You-Think/dp/935543135X/ref=zg_bs_g_books_sccl_7/000-0000000-0000000?psc=1',\n",
       " 'https://www.amazon.in/Do-Today-procrastination-productivity-meaningful/dp/0143452126/ref=zg_bs_g_books_sccl_8/000-0000000-0000000?psc=1',\n",
       " 'https://www.amazon.in/Diary-Wimpy-Kid-Brainer-Book/dp/0241583136/ref=zg_bs_g_books_sccl_9/000-0000000-0000000?psc=1',\n",
       " 'https://www.amazon.in/My-First-Library-Boxset-Board/dp/9387779262/ref=zg_bs_g_books_sccl_10/000-0000000-0000000?psc=1']"
      ]
     },
     "execution_count": 206,
     "metadata": {},
     "output_type": "execute_result"
    }
   ],
   "source": [
    "get_all_url(doc)[:10] "
   ]
  },
  {
   "cell_type": "markdown",
   "id": "50df5877",
   "metadata": {},
   "source": [
    "# Scrape book ratings"
   ]
  },
  {
   "cell_type": "code",
   "execution_count": 207,
   "id": "faf06150",
   "metadata": {},
   "outputs": [],
   "source": [
    "rating= 'a-icon a-icon-star-small a-star-small-4-5 aok-align-top'\n",
    "rating_tags= doc.find_all('i',{'class': rating})"
   ]
  },
  {
   "cell_type": "code",
   "execution_count": 208,
   "id": "50d0e7e9",
   "metadata": {},
   "outputs": [
    {
     "data": {
      "text/plain": [
       "40"
      ]
     },
     "execution_count": 208,
     "metadata": {},
     "output_type": "execute_result"
    }
   ],
   "source": [
    "len(rating_tags)"
   ]
  },
  {
   "cell_type": "code",
   "execution_count": 209,
   "id": "bd7420b9",
   "metadata": {},
   "outputs": [
    {
     "data": {
      "text/plain": [
       "[<i class=\"a-icon a-icon-star-small a-star-small-4-5 aok-align-top\"><span class=\"a-icon-alt\">4.6 out of 5 stars</span></i>]"
      ]
     },
     "execution_count": 209,
     "metadata": {},
     "output_type": "execute_result"
    }
   ],
   "source": [
    "rating_tags[:1]"
   ]
  },
  {
   "cell_type": "code",
   "execution_count": 210,
   "id": "6f189bc5",
   "metadata": {},
   "outputs": [
    {
     "data": {
      "text/plain": [
       "'4.6 out of 5 stars'"
      ]
     },
     "execution_count": 210,
     "metadata": {},
     "output_type": "execute_result"
    }
   ],
   "source": [
    "rating_tags[0].find('span').text"
   ]
  },
  {
   "cell_type": "code",
   "execution_count": 211,
   "id": "6f17445b",
   "metadata": {},
   "outputs": [],
   "source": [
    "def get_all_stars(doc):\n",
    "    rating_tags= doc.find_all('div',{'class':'zg-grid-general-faceout'})\n",
    "    Stars=[]\n",
    "    for tag in rating_tags:\n",
    "        try:\n",
    "            Stars.append(tag.find('span',{'class':'a-icon-alt'}).text)\n",
    "        except :\n",
    "            Stars.append(\"Not Available\")\n",
    "            \n",
    "    return Stars"
   ]
  },
  {
   "cell_type": "code",
   "execution_count": 212,
   "id": "0b6ba661",
   "metadata": {},
   "outputs": [
    {
     "data": {
      "text/plain": [
       "['4.9 out of 5 stars',\n",
       " '4.6 out of 5 stars',\n",
       " '4.6 out of 5 stars',\n",
       " '4.9 out of 5 stars',\n",
       " '4.6 out of 5 stars',\n",
       " '4.5 out of 5 stars',\n",
       " '4.5 out of 5 stars',\n",
       " '4.4 out of 5 stars',\n",
       " '4.8 out of 5 stars',\n",
       " '4.5 out of 5 stars']"
      ]
     },
     "execution_count": 212,
     "metadata": {},
     "output_type": "execute_result"
    }
   ],
   "source": [
    "get_all_stars(doc)[:10]"
   ]
  },
  {
   "cell_type": "markdown",
   "id": "74c49f2c",
   "metadata": {},
   "source": [
    "#Extract and combine data from multiple pages"
   ]
  },
  {
   "cell_type": "code",
   "execution_count": 213,
   "id": "46158d6e",
   "metadata": {},
   "outputs": [],
   "source": [
    "def get_doc(page_number):\n",
    "    time.sleep(2)\n",
    "    url='https://www.amazon.in/gp/bestsellers/books/ref=zg_bs_pg_{}?ie=UTF8&pg={}'.format(str(page_number),str(page_number)) \n",
    "    doc=get_page(url)\n",
    "    return doc"
   ]
  },
  {
   "cell_type": "code",
   "execution_count": 214,
   "id": "27827672",
   "metadata": {},
   "outputs": [],
   "source": [
    "!pip install pandas --quiet"
   ]
  },
  {
   "cell_type": "markdown",
   "id": "98d2b49e",
   "metadata": {},
   "source": [
    "# Creating a DataFrame using Pandas"
   ]
  },
  {
   "cell_type": "code",
   "execution_count": 215,
   "id": "6c480d1c",
   "metadata": {},
   "outputs": [],
   "source": [
    "import pandas as pd"
   ]
  },
  {
   "cell_type": "code",
   "execution_count": 216,
   "id": "74b0dc42",
   "metadata": {},
   "outputs": [],
   "source": [
    "import time\n",
    "def get_all_details(n):\n",
    "    all_books={'Title': [], 'Author': [], 'Price': [], 'Stars': [], 'URL': []}\n",
    "    for page_number in range(1,n+1):\n",
    "        doc = get_doc(page_number)\n",
    "        all_books['Title'] += get_book_title(doc)\n",
    "        time.sleep(1)\n",
    "        all_books['Author'] += get_all_authors(doc)\n",
    "        time.sleep(1)\n",
    "        all_books['Price'] += get_all_price(doc)\n",
    "        time.sleep(1)\n",
    "        all_books['Stars'] += get_all_stars(doc)\n",
    "        time.sleep(1)\n",
    "        all_books['URL'] += get_all_url(doc)\n",
    "        time.sleep(1)\n",
    "    \n",
    "    return all_books"
   ]
  },
  {
   "cell_type": "code",
   "execution_count": 217,
   "id": "aa7ab94e",
   "metadata": {
    "scrolled": true
   },
   "outputs": [
    {
     "name": "stdout",
     "output_type": "stream",
     "text": [
      "Scraping URL: https://www.amazon.in/gp/bestsellers/books/ref=zg_bs_pg_1?ie=UTF8&pg=1\n",
      "Status code: 200\n",
      "Scraping URL: https://www.amazon.in/gp/bestsellers/books/ref=zg_bs_pg_2?ie=UTF8&pg=2\n",
      "Status code: 200\n"
     ]
    }
   ],
   "source": [
    "dataframe = pd.DataFrame.from_dict(get_all_details(2), orient= 'index')\n",
    "dataframe= dataframe.transpose()"
   ]
  },
  {
   "cell_type": "code",
   "execution_count": 218,
   "id": "4f642311",
   "metadata": {
    "scrolled": true
   },
   "outputs": [
    {
     "data": {
      "text/html": [
       "<div>\n",
       "<style scoped>\n",
       "    .dataframe tbody tr th:only-of-type {\n",
       "        vertical-align: middle;\n",
       "    }\n",
       "\n",
       "    .dataframe tbody tr th {\n",
       "        vertical-align: top;\n",
       "    }\n",
       "\n",
       "    .dataframe thead th {\n",
       "        text-align: right;\n",
       "    }\n",
       "</style>\n",
       "<table border=\"1\" class=\"dataframe\">\n",
       "  <thead>\n",
       "    <tr style=\"text-align: right;\">\n",
       "      <th></th>\n",
       "      <th>Title</th>\n",
       "      <th>Author</th>\n",
       "      <th>Price</th>\n",
       "      <th>Stars</th>\n",
       "      <th>URL</th>\n",
       "    </tr>\n",
       "  </thead>\n",
       "  <tbody>\n",
       "    <tr>\n",
       "      <th>0</th>\n",
       "      <td>BRAHMASTRA Complete Maths Multicolored Formula...</td>\n",
       "      <td>Aditya Ranjan Sir</td>\n",
       "      <td>₹110.00</td>\n",
       "      <td>4.9 out of 5 stars</td>\n",
       "      <td>https://www.amazon.in/BRAHMASTRA-Complete-Mult...</td>\n",
       "    </tr>\n",
       "    <tr>\n",
       "      <th>1</th>\n",
       "      <td>Ikigai</td>\n",
       "      <td>Francesc Miralles</td>\n",
       "      <td>₹353.00</td>\n",
       "      <td>4.6 out of 5 stars</td>\n",
       "      <td>https://www.amazon.in/Ikigai-H%C3%A9ctor-Garc%...</td>\n",
       "    </tr>\n",
       "    <tr>\n",
       "      <th>2</th>\n",
       "      <td>The Psychology Of Money</td>\n",
       "      <td>Morgan Housel</td>\n",
       "      <td>₹231.00</td>\n",
       "      <td>4.6 out of 5 stars</td>\n",
       "      <td>https://www.amazon.in/Psychology-Money-Morgan-...</td>\n",
       "    </tr>\n",
       "    <tr>\n",
       "      <th>3</th>\n",
       "      <td>PW Physics Med Easy Notes | Notes, Formulas, M...</td>\n",
       "      <td>Dr. Manish Raj (MR. Sir)</td>\n",
       "      <td>₹421.00</td>\n",
       "      <td>4.9 out of 5 stars</td>\n",
       "      <td>https://www.amazon.in/Physics-Formulas-Mnemoni...</td>\n",
       "    </tr>\n",
       "    <tr>\n",
       "      <th>4</th>\n",
       "      <td>Atomic Habits: the life-changing million-copy ...</td>\n",
       "      <td>James Clear</td>\n",
       "      <td>₹467.00</td>\n",
       "      <td>4.6 out of 5 stars</td>\n",
       "      <td>https://www.amazon.in/Atomic-Habits-James-Clea...</td>\n",
       "    </tr>\n",
       "    <tr>\n",
       "      <th>...</th>\n",
       "      <td>...</td>\n",
       "      <td>...</td>\n",
       "      <td>...</td>\n",
       "      <td>...</td>\n",
       "      <td>...</td>\n",
       "    </tr>\n",
       "    <tr>\n",
       "      <th>95</th>\n",
       "      <td>Encyclopedia: Amazing Questions &amp; Answers Science</td>\n",
       "      <td>Om Books Editorial Team</td>\n",
       "      <td>₹126.00</td>\n",
       "      <td>4.5 out of 5 stars</td>\n",
       "      <td>https://www.amazon.in/Amazing-Question-Answers...</td>\n",
       "    </tr>\n",
       "    <tr>\n",
       "      <th>96</th>\n",
       "      <td>Oswaal CBSE Class 10 Science Question Bank (Fo...</td>\n",
       "      <td>Oswaal Editorial Board</td>\n",
       "      <td>₹477.00</td>\n",
       "      <td>4.4 out of 5 stars</td>\n",
       "      <td>https://www.amazon.in/Oswaal-CBSE-Class-Scienc...</td>\n",
       "    </tr>\n",
       "    <tr>\n",
       "      <th>97</th>\n",
       "      <td>1800+ Reward Stickers Ideal For Teachers And P...</td>\n",
       "      <td>Wonder House Books</td>\n",
       "      <td>₹158.00</td>\n",
       "      <td>4.5 out of 5 stars</td>\n",
       "      <td>https://www.amazon.in/1800-Reward-Stickers-Tea...</td>\n",
       "    </tr>\n",
       "    <tr>\n",
       "      <th>98</th>\n",
       "      <td>BRAIN GAMES FOR CLEVER KIDS [Paperback] Moore,...</td>\n",
       "      <td>Gareth Moore</td>\n",
       "      <td>₹139.00</td>\n",
       "      <td>4.3 out of 5 stars</td>\n",
       "      <td>https://www.amazon.in/BRAIN-GAMES-CLEVER-Paper...</td>\n",
       "    </tr>\n",
       "    <tr>\n",
       "      <th>99</th>\n",
       "      <td>Think and Grow Rich THE 21st CENTURY EDITION</td>\n",
       "      <td>Napoleon Hill</td>\n",
       "      <td>₹98.00</td>\n",
       "      <td>4.5 out of 5 stars</td>\n",
       "      <td>https://www.amazon.in/Think-Grow-Rich-21st-CEN...</td>\n",
       "    </tr>\n",
       "  </tbody>\n",
       "</table>\n",
       "<p>100 rows × 5 columns</p>\n",
       "</div>"
      ],
      "text/plain": [
       "                                                Title  \\\n",
       "0   BRAHMASTRA Complete Maths Multicolored Formula...   \n",
       "1                                              Ikigai   \n",
       "2                             The Psychology Of Money   \n",
       "3   PW Physics Med Easy Notes | Notes, Formulas, M...   \n",
       "4   Atomic Habits: the life-changing million-copy ...   \n",
       "..                                                ...   \n",
       "95  Encyclopedia: Amazing Questions & Answers Science   \n",
       "96  Oswaal CBSE Class 10 Science Question Bank (Fo...   \n",
       "97  1800+ Reward Stickers Ideal For Teachers And P...   \n",
       "98  BRAIN GAMES FOR CLEVER KIDS [Paperback] Moore,...   \n",
       "99       Think and Grow Rich THE 21st CENTURY EDITION   \n",
       "\n",
       "                      Author    Price               Stars  \\\n",
       "0          Aditya Ranjan Sir  ₹110.00  4.9 out of 5 stars   \n",
       "1          Francesc Miralles  ₹353.00  4.6 out of 5 stars   \n",
       "2              Morgan Housel  ₹231.00  4.6 out of 5 stars   \n",
       "3   Dr. Manish Raj (MR. Sir)  ₹421.00  4.9 out of 5 stars   \n",
       "4                James Clear  ₹467.00  4.6 out of 5 stars   \n",
       "..                       ...      ...                 ...   \n",
       "95   Om Books Editorial Team  ₹126.00  4.5 out of 5 stars   \n",
       "96    Oswaal Editorial Board  ₹477.00  4.4 out of 5 stars   \n",
       "97        Wonder House Books  ₹158.00  4.5 out of 5 stars   \n",
       "98              Gareth Moore  ₹139.00  4.3 out of 5 stars   \n",
       "99             Napoleon Hill   ₹98.00  4.5 out of 5 stars   \n",
       "\n",
       "                                                  URL  \n",
       "0   https://www.amazon.in/BRAHMASTRA-Complete-Mult...  \n",
       "1   https://www.amazon.in/Ikigai-H%C3%A9ctor-Garc%...  \n",
       "2   https://www.amazon.in/Psychology-Money-Morgan-...  \n",
       "3   https://www.amazon.in/Physics-Formulas-Mnemoni...  \n",
       "4   https://www.amazon.in/Atomic-Habits-James-Clea...  \n",
       "..                                                ...  \n",
       "95  https://www.amazon.in/Amazing-Question-Answers...  \n",
       "96  https://www.amazon.in/Oswaal-CBSE-Class-Scienc...  \n",
       "97  https://www.amazon.in/1800-Reward-Stickers-Tea...  \n",
       "98  https://www.amazon.in/BRAIN-GAMES-CLEVER-Paper...  \n",
       "99  https://www.amazon.in/Think-Grow-Rich-21st-CEN...  \n",
       "\n",
       "[100 rows x 5 columns]"
      ]
     },
     "execution_count": 218,
     "metadata": {},
     "output_type": "execute_result"
    }
   ],
   "source": [
    "dataframe"
   ]
  },
  {
   "cell_type": "markdown",
   "id": "60ea9ee7",
   "metadata": {},
   "source": [
    "# Create CSV file with the extracted information"
   ]
  },
  {
   "cell_type": "code",
   "execution_count": 219,
   "id": "9d1a75e0",
   "metadata": {},
   "outputs": [],
   "source": [
    "dataframe.to_csv('digipplusAss_books.csv',index=None)"
   ]
  },
  {
   "cell_type": "code",
   "execution_count": null,
   "id": "ebb475da",
   "metadata": {},
   "outputs": [],
   "source": []
  },
  {
   "cell_type": "code",
   "execution_count": null,
   "id": "c7205138",
   "metadata": {},
   "outputs": [],
   "source": []
  },
  {
   "cell_type": "code",
   "execution_count": null,
   "id": "6f39209d",
   "metadata": {},
   "outputs": [],
   "source": []
  }
 ],
 "metadata": {
  "kernelspec": {
   "display_name": "Python 3 (ipykernel)",
   "language": "python",
   "name": "python3"
  },
  "language_info": {
   "codemirror_mode": {
    "name": "ipython",
    "version": 3
   },
   "file_extension": ".py",
   "mimetype": "text/x-python",
   "name": "python",
   "nbconvert_exporter": "python",
   "pygments_lexer": "ipython3",
   "version": "3.9.7"
  }
 },
 "nbformat": 4,
 "nbformat_minor": 5
}
